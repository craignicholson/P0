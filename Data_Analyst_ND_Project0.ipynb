{
 "cells": [
  {
   "cell_type": "markdown",
   "metadata": {},
   "source": [
    "#Chopsticks!\n",
    "Craig Nicholson  \n",
    "August 29, 2015\n",
    "\n",
    "A few researchers set out to determine the optimal length of chopsticks for children and adults. They came up with a measure of how effective a pair of chopsticks performed, called the \"Food Pinching Performance.\" The \"Food Pinching Performance\" was determined by counting the number of peanuts picked and placed in a cup (PPPC).\n",
    "\n",
    "### An investigation for determining the optimum length of chopsticks.\n",
    "[Link to Abstract and Paper](http://www.ncbi.nlm.nih.gov/pubmed/15676839)  \n",
    "*the abstract below was adapted from the link*\n",
    "\n",
    "Chopsticks are one of the most simple and popular hand tools ever invented by humans, but have not previously been investigated by [ergonomists](https://www.google.com/search?q=ergonomists). Two laboratory studies were conducted in this research, using a [randomised complete block design](http://dawg.utk.edu/glossary/whatis_rcbd.htm), to evaluate the effects of the **length of the chopsticks on the food-serving performance** of adults and children. Thirty-one male junior college students and 21 primary school pupils served as subjects for the experiment to test chopsticks lengths of 180, 210, 240, 270, 300, and 330 mm. The results showed that the **food-pinching performance was significantly affected by the length of the chopsticks**, and that chopsticks of about 240 and 180 mm long were optimal for adults and pupils, respectively. Based on these findings, the researchers suggested that families with children should provide both 240 and 180 mm long chopsticks. In addition, restaurants could provide 210 mm long chopsticks, considering the trade-offs between ergonomics and cost.\n"
   ]
  },
  {
   "cell_type": "code",
   "execution_count": 158,
   "metadata": {
    "collapsed": false
   },
   "outputs": [],
   "source": [
    "import pandas as pd\n",
    "from pandas.tools.plotting import scatter_matrix\n",
    "from scipy.stats import ttest_ind\n",
    "from scipy.stats import f_oneway\n",
    "from scipy.stats import kruskal\n",
    "from statsmodels.stats.multicomp import (pairwise_tukeyhsd,\n",
    "                                         MultiComparison)\n",
    "\n",
    "# pandas is a software library for data manipulation and analysis\n",
    "# We commonly use shorter nicknames for certain packages. Pandas is often abbreviated to pd.\n",
    "# hit shift + enter to run this cell or block of code\n",
    "path = '~/Downloads/P0/chopstick-effectiveness.csv'\n",
    "dataFrame = pd.read_csv(path)"
   ]
  },
  {
   "cell_type": "markdown",
   "metadata": {},
   "source": [
    "## 1. What is the independent variable in the experiment?\n",
    "The independent variable is the length of chopsticks."
   ]
  },
  {
   "cell_type": "markdown",
   "metadata": {},
   "source": [
    "## 2. What is the dependent variable in the experiment?\n",
    "\n",
    "Food-pinching performance (PPPC) is the dependant variable.\n",
    "\n",
    "{The dependent variable is the variable being measured, the PPPC performance, which is affected by the independent variable}"
   ]
  },
  {
   "cell_type": "markdown",
   "metadata": {},
   "source": [
    "## 3. How is the dependent variable operationally defined?\n",
    "The \"Food Pinching Performance\" was determined by counting the number of peanuts picked and placed in a cup (PPPC).\n"
   ]
  },
  {
   "cell_type": "markdown",
   "metadata": {},
   "source": [
    "## 4. Based on the description of the experiment and the data set, list at least two variables that you know were controlled.\n",
    "\n",
    "Data and Abstract\n",
    "- material of the chopstick\n",
    "- gender of subject\n",
    "- age of subject\n",
    "\n",
    "Additional Variables:\n",
    "- height of the cup\n",
    "- diameter of the opening of the cup\n",
    "- the size and type of the peanuts\n",
    "- the length of time the participant was allowed to pick up peanuts and place into a cup\n",
    "- the number of attempts to pick up each peanut\n",
    "- temperature in the testing facility\n",
    "- light in the testing facility\n",
    "- right or left handed \n",
    "\n",
    "Subject Varables:  \n",
    "Each subject runs the test for each of the Chopstick lengths\n",
    "- the subjects, 31 male junior college students (age, sex)\n",
    "- 21 primary school age children (age, sex)\n",
    "\n",
    "Controlled variables:  \n",
    "*Are Independent variables that could potentially affect the outcome (dependent variable), but are held constant throughout the experiment.*"
   ]
  },
  {
   "cell_type": "markdown",
   "metadata": {},
   "source": [
    "### Mean of the entire sample (n) for \"Food Pinching Efficiency\" \n",
    "Let's do a basic statistical calculation on the data using code! Run the block of code below to calculate the average \"Food Pinching Efficiency\" for all 31 participants and all chopstick lengths."
   ]
  },
  {
   "cell_type": "code",
   "execution_count": 159,
   "metadata": {
    "collapsed": false
   },
   "outputs": [
    {
     "data": {
      "text/plain": [
       "25.00559139784947"
      ]
     },
     "execution_count": 159,
     "metadata": {},
     "output_type": "execute_result"
    }
   ],
   "source": [
    "dataFrame['Food.Pinching.Efficiency'].mean()"
   ]
  },
  {
   "cell_type": "markdown",
   "metadata": {},
   "source": [
    "This number is helpful, but the number doesn't let us know which of the chopstick lengths performed best for the thirty-one male junior college students. Let's break down the data by chopstick length. The next block of code will generate the average \"Food Pinching Effeciency\" for each chopstick length. Run the block of code below.\n",
    "\n",
    "### Average \"Food Pinching Efficiency\" "
   ]
  },
  {
   "cell_type": "code",
   "execution_count": 160,
   "metadata": {
    "collapsed": false,
    "scrolled": true
   },
   "outputs": [
    {
     "data": {
      "text/html": [
       "<div>\n",
       "<table border=\"1\" class=\"dataframe\">\n",
       "  <thead>\n",
       "    <tr style=\"text-align: right;\">\n",
       "      <th></th>\n",
       "      <th>Chopstick.Length</th>\n",
       "      <th>Food.Pinching.Efficiency</th>\n",
       "    </tr>\n",
       "  </thead>\n",
       "  <tbody>\n",
       "    <tr>\n",
       "      <th>0</th>\n",
       "      <td>180</td>\n",
       "      <td>24.935161</td>\n",
       "    </tr>\n",
       "    <tr>\n",
       "      <th>1</th>\n",
       "      <td>210</td>\n",
       "      <td>25.483871</td>\n",
       "    </tr>\n",
       "    <tr>\n",
       "      <th>2</th>\n",
       "      <td>240</td>\n",
       "      <td>26.322903</td>\n",
       "    </tr>\n",
       "    <tr>\n",
       "      <th>3</th>\n",
       "      <td>270</td>\n",
       "      <td>24.323871</td>\n",
       "    </tr>\n",
       "    <tr>\n",
       "      <th>4</th>\n",
       "      <td>300</td>\n",
       "      <td>24.968065</td>\n",
       "    </tr>\n",
       "    <tr>\n",
       "      <th>5</th>\n",
       "      <td>330</td>\n",
       "      <td>23.999677</td>\n",
       "    </tr>\n",
       "  </tbody>\n",
       "</table>\n",
       "</div>"
      ],
      "text/plain": [
       "   Chopstick.Length  Food.Pinching.Efficiency\n",
       "0               180                 24.935161\n",
       "1               210                 25.483871\n",
       "2               240                 26.322903\n",
       "3               270                 24.323871\n",
       "4               300                 24.968065\n",
       "5               330                 23.999677"
      ]
     },
     "execution_count": 160,
     "metadata": {},
     "output_type": "execute_result"
    }
   ],
   "source": [
    "meansByChopstickLength = dataFrame.groupby('Chopstick.Length')['Food.Pinching.Efficiency'].mean().reset_index()\n",
    "meansByChopstickLength\n",
    "\n",
    "# reset_index() changes Chopstick.Length from an index to column. Instead of the index being the length of the chopsticks, the index is the row numbers 0, 1, 2, 3, 4, 5."
   ]
  },
  {
   "cell_type": "markdown",
   "metadata": {},
   "source": [
    "### Median \"Food Pinching Efficiency\" \n",
    "Find the median since outliers can affect the mean.  We see the mean for 180mm and 240mm are within a very narrow range (0.08mm).  We should explore the 180mm data later to see why the mean and median differ more than the other chopstick lengths."
   ]
  },
  {
   "cell_type": "code",
   "execution_count": 161,
   "metadata": {
    "collapsed": false
   },
   "outputs": [
    {
     "data": {
      "text/html": [
       "<div>\n",
       "<table border=\"1\" class=\"dataframe\">\n",
       "  <thead>\n",
       "    <tr style=\"text-align: right;\">\n",
       "      <th></th>\n",
       "      <th>Chopstick.Length</th>\n",
       "      <th>Food.Pinching.Efficiency</th>\n",
       "    </tr>\n",
       "  </thead>\n",
       "  <tbody>\n",
       "    <tr>\n",
       "      <th>0</th>\n",
       "      <td>180</td>\n",
       "      <td>26.35</td>\n",
       "    </tr>\n",
       "    <tr>\n",
       "      <th>1</th>\n",
       "      <td>210</td>\n",
       "      <td>25.42</td>\n",
       "    </tr>\n",
       "    <tr>\n",
       "      <th>2</th>\n",
       "      <td>240</td>\n",
       "      <td>26.43</td>\n",
       "    </tr>\n",
       "    <tr>\n",
       "      <th>3</th>\n",
       "      <td>270</td>\n",
       "      <td>24.50</td>\n",
       "    </tr>\n",
       "    <tr>\n",
       "      <th>4</th>\n",
       "      <td>300</td>\n",
       "      <td>25.09</td>\n",
       "    </tr>\n",
       "    <tr>\n",
       "      <th>5</th>\n",
       "      <td>330</td>\n",
       "      <td>23.63</td>\n",
       "    </tr>\n",
       "  </tbody>\n",
       "</table>\n",
       "</div>"
      ],
      "text/plain": [
       "   Chopstick.Length  Food.Pinching.Efficiency\n",
       "0               180                     26.35\n",
       "1               210                     25.42\n",
       "2               240                     26.43\n",
       "3               270                     24.50\n",
       "4               300                     25.09\n",
       "5               330                     23.63"
      ]
     },
     "execution_count": 161,
     "metadata": {},
     "output_type": "execute_result"
    }
   ],
   "source": [
    "medianByChopstickLength = dataFrame.groupby('Chopstick.Length')['Food.Pinching.Efficiency'].median().reset_index()\n",
    "medianByChopstickLength"
   ]
  },
  {
   "cell_type": "markdown",
   "metadata": {},
   "source": [
    "### Calculate the difference between the mean and median\n",
    "Notice how the 180mm chopstick lenght has a much higher variance than all the other chopstick lengths.  Right now, I am going to move on from this analysis and look at a few other tests."
   ]
  },
  {
   "cell_type": "code",
   "execution_count": 162,
   "metadata": {
    "collapsed": false
   },
   "outputs": [
    {
     "data": {
      "text/html": [
       "<div>\n",
       "<table border=\"1\" class=\"dataframe\">\n",
       "  <thead>\n",
       "    <tr style=\"text-align: right;\">\n",
       "      <th></th>\n",
       "      <th>Chopstick.Length</th>\n",
       "      <th>Food.Pinching.Efficiency</th>\n",
       "      <th>meanFPE</th>\n",
       "      <th>dev_from_mean</th>\n",
       "      <th>sqrd_dev</th>\n",
       "    </tr>\n",
       "  </thead>\n",
       "  <tbody>\n",
       "    <tr>\n",
       "      <th>0</th>\n",
       "      <td>180</td>\n",
       "      <td>26.35</td>\n",
       "      <td>24.935161</td>\n",
       "      <td>1.414839</td>\n",
       "      <td>2.001769</td>\n",
       "    </tr>\n",
       "    <tr>\n",
       "      <th>1</th>\n",
       "      <td>210</td>\n",
       "      <td>25.42</td>\n",
       "      <td>25.483871</td>\n",
       "      <td>-0.063871</td>\n",
       "      <td>0.004080</td>\n",
       "    </tr>\n",
       "    <tr>\n",
       "      <th>2</th>\n",
       "      <td>240</td>\n",
       "      <td>26.43</td>\n",
       "      <td>26.322903</td>\n",
       "      <td>0.107097</td>\n",
       "      <td>0.011470</td>\n",
       "    </tr>\n",
       "    <tr>\n",
       "      <th>3</th>\n",
       "      <td>270</td>\n",
       "      <td>24.50</td>\n",
       "      <td>24.323871</td>\n",
       "      <td>0.176129</td>\n",
       "      <td>0.031021</td>\n",
       "    </tr>\n",
       "    <tr>\n",
       "      <th>4</th>\n",
       "      <td>300</td>\n",
       "      <td>25.09</td>\n",
       "      <td>24.968065</td>\n",
       "      <td>0.121935</td>\n",
       "      <td>0.014868</td>\n",
       "    </tr>\n",
       "    <tr>\n",
       "      <th>5</th>\n",
       "      <td>330</td>\n",
       "      <td>23.63</td>\n",
       "      <td>23.999677</td>\n",
       "      <td>-0.369677</td>\n",
       "      <td>0.136661</td>\n",
       "    </tr>\n",
       "  </tbody>\n",
       "</table>\n",
       "</div>"
      ],
      "text/plain": [
       "   Chopstick.Length  Food.Pinching.Efficiency    meanFPE  dev_from_mean  \\\n",
       "0               180                     26.35  24.935161       1.414839   \n",
       "1               210                     25.42  25.483871      -0.063871   \n",
       "2               240                     26.43  26.322903       0.107097   \n",
       "3               270                     24.50  24.323871       0.176129   \n",
       "4               300                     25.09  24.968065       0.121935   \n",
       "5               330                     23.63  23.999677      -0.369677   \n",
       "\n",
       "   sqrd_dev  \n",
       "0  2.001769  \n",
       "1  0.004080  \n",
       "2  0.011470  \n",
       "3  0.031021  \n",
       "4  0.014868  \n",
       "5  0.136661  "
      ]
     },
     "execution_count": 162,
     "metadata": {},
     "output_type": "execute_result"
    }
   ],
   "source": [
    "# Add new column to medianByChopstickLength to log the mean Food Pinching Efficiency\n",
    "# Add new column to medianByChopstickLength to log the variance between the mean and median.\n",
    "medianByChopstickLength['meanFPE'] = meansByChopstickLength['Food.Pinching.Efficiency']\n",
    "medianByChopstickLength['dev_from_mean'] = medianByChopstickLength['Food.Pinching.Efficiency'] - medianByChopstickLength['meanFPE']\n",
    "medianByChopstickLength['sqrd_dev'] = medianByChopstickLength['dev_from_mean']*medianByChopstickLength['dev_from_mean']\n",
    "medianByChopstickLength"
   ]
  },
  {
   "cell_type": "markdown",
   "metadata": {},
   "source": [
    "## 5. Which chopstick length performed the best for the group of thirty-one male junior college students?\n",
    "\n"
   ]
  },
  {
   "cell_type": "markdown",
   "metadata": {},
   "source": [
    "The chopstick length of 240mm performed the best for the group of 31 male junior college students.  With a mean Efficiency in PPPC of 26.32.\n",
    "\n",
    "The 240 mm long chopsticks were the Best\n",
    "\n",
    "The 330 mm long chopsticks were the worst."
   ]
  },
  {
   "cell_type": "markdown",
   "metadata": {},
   "source": [
    "The scatter plots below all show the chopstick length of 240mm has the best PPPC."
   ]
  },
  {
   "cell_type": "code",
   "execution_count": 163,
   "metadata": {
    "collapsed": false,
    "scrolled": true
   },
   "outputs": [
    {
     "name": "stdout",
     "output_type": "stream",
     "text": [
      "Populating the interactive namespace from numpy and matplotlib\n"
     ]
    },
    {
     "data": {
      "image/png": "[encoded data removed]",
      "text/plain": [
       "<matplotlib.figure.Figure at 0x7f39164a6990>"
      ]
     },
     "metadata": {},
     "output_type": "display_data"
    }
   ],
   "source": [
    "# Causes plots to display within the notebook rather than in a new window\n",
    "%pylab inline\n",
    "\n",
    "import matplotlib.pyplot as plt\n",
    "\n",
    "plt.scatter(x=meansByChopstickLength['Chopstick.Length'], y=meansByChopstickLength['Food.Pinching.Efficiency'])\n",
    "plt.xlabel(\"Length in mm\")\n",
    "plt.ylabel(\"Efficiency in PPPC\")\n",
    "plt.title(\"Average Food Pinching Efficiency by Chopstick Length\")\n",
    "plt.show()"
   ]
  },
  {
   "cell_type": "code",
   "execution_count": 164,
   "metadata": {
    "collapsed": false,
    "scrolled": true
   },
   "outputs": [
    {
     "name": "stdout",
     "output_type": "stream",
     "text": [
      "y = -0.00783225806452x + 27.0028172043\n"
     ]
    },
    {
     "data": {
      "image/png": "[encoded data removed]",
      "text/plain": [
       "<matplotlib.figure.Figure at 0x7f391625b510>"
      ]
     },
     "metadata": {},
     "output_type": "display_data"
    }
   ],
   "source": [
    "# Overlay the best fit line for the meansByChopstickLength\n",
    "# Use slope intercept form y = mx + b\n",
    "# m is the slope\n",
    "# b is the y intercept where x = 0\n",
    "m, b = np.polyfit(meansByChopstickLength['Chopstick.Length'], meansByChopstickLength['Food.Pinching.Efficiency'], 1)\n",
    "plt.scatter(x=meansByChopstickLength['Chopstick.Length'], y=meansByChopstickLength['Food.Pinching.Efficiency'])\n",
    "plt.plot(meansByChopstickLength['Chopstick.Length'], m*meansByChopstickLength['Chopstick.Length'] + b, '-')\n",
    "plt.xlabel(\"Length in mm\")\n",
    "plt.ylabel(\"Efficiency in PPPC\")\n",
    "plt.title(\"Average Food Pinching Efficiency by Chopstick Length\")\n",
    "\n",
    "print 'y = ' + str(m) + 'x + ' + str(b)\n"
   ]
  },
  {
   "cell_type": "markdown",
   "metadata": {},
   "source": [
    "The plot above also has the best fit line plotted assuming the realtionship for Chopstick length and PPPC is a linear relationship."
   ]
  },
  {
   "cell_type": "markdown",
   "metadata": {},
   "source": [
    "### Plot of mean and median since outliers can affect the mean.\n",
    "The chopstick length median and mean of 180mm have a much larger difference between the two values than all the other chopstick lengths. "
   ]
  },
  {
   "cell_type": "code",
   "execution_count": 165,
   "metadata": {
    "collapsed": false
   },
   "outputs": [
    {
     "data": {
      "image/png": "[encoded data removed]",
      "text/plain": [
       "<matplotlib.figure.Figure at 0x7f391641a1d0>"
      ]
     },
     "metadata": {},
     "output_type": "display_data"
    }
   ],
   "source": [
    "plt.scatter(x=meansByChopstickLength['Chopstick.Length'], y=meansByChopstickLength['Food.Pinching.Efficiency'], label='Avg')\n",
    "plt.scatter(x=medianByChopstickLength['Chopstick.Length'], y=medianByChopstickLength['Food.Pinching.Efficiency'], label='Median', color='red')\n",
    "plt.xlabel(\"Length in mm\")\n",
    "plt.ylabel(\"Efficiency in PPPC\")\n",
    "plt.title(\"Average & Median Food Pinching Efficiency \\nby Chopstick Length\")\n",
    "plt.legend()\n",
    "plt.show()\n"
   ]
  },
  {
   "cell_type": "markdown",
   "metadata": {},
   "source": [
    "### Check to see if the 180mm outlier is truly and outlier"
   ]
  },
  {
   "cell_type": "code",
   "execution_count": 166,
   "metadata": {
    "collapsed": false
   },
   "outputs": [
    {
     "data": {
      "text/html": [
       "<div>\n",
       "<table border=\"1\" class=\"dataframe\">\n",
       "  <thead>\n",
       "    <tr style=\"text-align: right;\">\n",
       "      <th></th>\n",
       "      <th>Food.Pinching.Efficiency</th>\n",
       "    </tr>\n",
       "  </thead>\n",
       "  <tbody>\n",
       "    <tr>\n",
       "      <th>count</th>\n",
       "      <td>31.000000</td>\n",
       "    </tr>\n",
       "    <tr>\n",
       "      <th>mean</th>\n",
       "      <td>24.935161</td>\n",
       "    </tr>\n",
       "    <tr>\n",
       "      <th>std</th>\n",
       "      <td>4.020612</td>\n",
       "    </tr>\n",
       "    <tr>\n",
       "      <th>min</th>\n",
       "      <td>14.470000</td>\n",
       "    </tr>\n",
       "    <tr>\n",
       "      <th>25%</th>\n",
       "      <td>22.740000</td>\n",
       "    </tr>\n",
       "    <tr>\n",
       "      <th>50%</th>\n",
       "      <td>26.350000</td>\n",
       "    </tr>\n",
       "    <tr>\n",
       "      <th>75%</th>\n",
       "      <td>27.910000</td>\n",
       "    </tr>\n",
       "    <tr>\n",
       "      <th>max</th>\n",
       "      <td>31.190000</td>\n",
       "    </tr>\n",
       "  </tbody>\n",
       "</table>\n",
       "</div>"
      ],
      "text/plain": [
       "       Food.Pinching.Efficiency\n",
       "count                 31.000000\n",
       "mean                  24.935161\n",
       "std                    4.020612\n",
       "min                   14.470000\n",
       "25%                   22.740000\n",
       "50%                   26.350000\n",
       "75%                   27.910000\n",
       "max                   31.190000"
      ]
     },
     "execution_count": 166,
     "metadata": {},
     "output_type": "execute_result"
    }
   ],
   "source": [
    "df = dataFrame[dataFrame['Chopstick.Length']== 180]\n",
    "df.pop('Individual')\n",
    "df.pop('Chopstick.Length')\n",
    "df.describe()"
   ]
  },
  {
   "cell_type": "markdown",
   "metadata": {},
   "source": [
    "Outlier = 26.35  \n",
    "Outlier < Q1 - 1.5(IQR)  \n",
    "Outlier > Q3 + 1.5(IQR)  \n",
    "\n",
    "Outlier < 22.74 - 1.5 (27.91-22.74)  \n",
    "False\n",
    "\n",
    "Outlier > 27.91 + 1.5 (27.91-22.74)  \n",
    "False\n",
    "\n",
    "Based on this data 26.35 is not an outlier with respect to the other data points in the 180mm Chopstick Length for the Food Pinching Efficiency data.\n"
   ]
  },
  {
   "cell_type": "markdown",
   "metadata": {},
   "source": [
    "### Additional Plots"
   ]
  },
  {
   "cell_type": "code",
   "execution_count": 167,
   "metadata": {
    "collapsed": false,
    "scrolled": false
   },
   "outputs": [
    {
     "data": {
      "image/png": "[encoded data removed]",
      "text/plain": [
       "<matplotlib.figure.Figure at 0x7f39165fcc50>"
      ]
     },
     "metadata": {},
     "output_type": "display_data"
    }
   ],
   "source": [
    "# Scatterplot of all the values to see the spread of the data\n",
    "# define area for the circle/point, to make the points 'jitter'\n",
    "area = np.pi * 100\n",
    "\n",
    "plt.scatter(x=dataFrame['Chopstick.Length'],y=dataFrame['Food.Pinching.Efficiency'], s=area, alpha=0.15)\n",
    "plt.title(\"Scatter Plot of Food Pinching Efficiency by Chopstick Length\")\n",
    "plt.show()"
   ]
  },
  {
   "cell_type": "code",
   "execution_count": 168,
   "metadata": {
    "collapsed": false,
    "scrolled": true
   },
   "outputs": [
    {
     "name": "stdout",
     "output_type": "stream",
     "text": [
      "y = -0.00783225806452x + 27.0028172043\n"
     ]
    },
    {
     "data": {
      "image/png": "[encoded data removed]",
      "text/plain": [
       "<matplotlib.figure.Figure at 0x7f391603aed0>"
      ]
     },
     "metadata": {},
     "output_type": "display_data"
    }
   ],
   "source": [
    "# Overlay the best fit line for the meansByChopstickLength\n",
    "# Use slope intercept form y = mx + b\n",
    "# m is the slope\n",
    "# b is the y intercept where x = 0\n",
    "m, b = np.polyfit(dataFrame['Chopstick.Length'], dataFrame['Food.Pinching.Efficiency'], 1)\n",
    "plt.scatter(x=dataFrame['Chopstick.Length'], y=dataFrame['Food.Pinching.Efficiency'])\n",
    "plt.plot(dataFrame['Chopstick.Length'], m*dataFrame['Chopstick.Length'] + b, '-')\n",
    "plt.title(\"Average Food Pinching Efficiency by Chopstick Length\")\n",
    "\n",
    "print 'y = ' + str(m) + 'x + ' + str(b)"
   ]
  },
  {
   "cell_type": "markdown",
   "metadata": {},
   "source": [
    "Since we only have a limited number of data points in the plot above for the meanChopstickLengths I wanted to plot the trendline for the entire sample and see if the linear equation remains the the same or approximate.\n",
    "\n",
    "y = -0.00783225806452x + 27.0028172043  (means of the sample)  \n",
    "y = -0.00783225806452x + 27.0028172043  (sample population)\n",
    "\n",
    "The linear equations are equal."
   ]
  },
  {
   "cell_type": "markdown",
   "metadata": {},
   "source": [
    "### Histograms of \"Food Piniching Efficiency\"\n",
    "Let's review these 31 samples and plot a histogram for the chopstick length of 180mm."
   ]
  },
  {
   "cell_type": "code",
   "execution_count": 169,
   "metadata": {
    "collapsed": false,
    "scrolled": true
   },
   "outputs": [
    {
     "data": {
      "image/png": "[encoded data removed]",
      "text/plain": [
       "<matplotlib.figure.Figure at 0x7f39164e1c10>"
      ]
     },
     "metadata": {},
     "output_type": "display_data"
    }
   ],
   "source": [
    "# Build the list of dataFrames \n",
    "cs180 = dataFrame[dataFrame['Chopstick.Length']== 180]\n",
    "cs180 = cs180.sort(['Food.Pinching.Efficiency'], ascending=[1]).reset_index()\n",
    "\n",
    "cs210 = dataFrame[dataFrame['Chopstick.Length']== 210]\n",
    "cs210 = cs210.sort(['Food.Pinching.Efficiency'], ascending=[1]).reset_index()\n",
    "\n",
    "cs240 = dataFrame[dataFrame['Chopstick.Length']== 240]\n",
    "cs240 = cs240.sort(['Food.Pinching.Efficiency'], ascending=[1]).reset_index()\n",
    "\n",
    "cs270 = dataFrame[dataFrame['Chopstick.Length']== 270]\n",
    "cs270 = cs270.sort(['Food.Pinching.Efficiency'], ascending=[1]).reset_index()\n",
    "\n",
    "cs300 = dataFrame[dataFrame['Chopstick.Length']== 300]\n",
    "cs300 = cs300.sort(['Food.Pinching.Efficiency'], ascending=[1]).reset_index()\n",
    "\n",
    "cs330 = dataFrame[dataFrame['Chopstick.Length']== 330]\n",
    "cs330 = cs330.sort(['Food.Pinching.Efficiency'], ascending=[1]).reset_index()\n",
    "\n",
    "plt.hist(x=cs180['Food.Pinching.Efficiency'], bins=15,color='orange')\n",
    "plt.xlabel(\"Efficiency in PPPC\")\n",
    "plt.ylabel(\"Frequency\")\n",
    "plt.title(\"Average & Median Food Pinching Efficiency \\nby Chopstick Length 180mm\")\n",
    "plt.show()"
   ]
  },
  {
   "cell_type": "markdown",
   "metadata": {},
   "source": [
    "We can see that the histogram is negatively skewed."
   ]
  },
  {
   "cell_type": "code",
   "execution_count": 170,
   "metadata": {
    "collapsed": false
   },
   "outputs": [
    {
     "data": {
      "image/png": "[encoded data removed]",
      "text/plain": [
       "<matplotlib.figure.Figure at 0x7f3916099c50>"
      ]
     },
     "metadata": {},
     "output_type": "display_data"
    }
   ],
   "source": [
    "plt.figure()\n",
    "plt.hist(x=cs240['Food.Pinching.Efficiency'], bins=15, color='violet')\n",
    "plt.xlabel(\"Efficiency in PPPC\")\n",
    "plt.ylabel(\"Frequency\")\n",
    "plt.title(\"Average & Median Food Pinching Efficiency \\nby Chopstick Length 240mm\")\n",
    "plt.show()"
   ]
  },
  {
   "cell_type": "markdown",
   "metadata": {},
   "source": [
    "The histogram of the 240mm chopstick is more likely normal than than the 180mm chopstick PPPC frequency."
   ]
  },
  {
   "cell_type": "markdown",
   "metadata": {},
   "source": [
    "## 6. Based on the scatterplot created from the code above, interpret the relationship you see. What do you notice?\n",
    "Pinching Efficiency increases from a length of 160 mm to 240mm and then pinching efficiency begins to decrease once the chopsticks are longer than 240mm.  Food Piniching Efficiency peaks with the 240mm chopsticks.\n"
   ]
  },
  {
   "cell_type": "markdown",
   "metadata": {},
   "source": [
    "### In the abstract the researchers stated that their results showed food-pinching performance was significantly affected by the length of the chopsticks, and that chopsticks of about 240 mm long were optimal for adults.\n",
    "\n",
    "## 7a. Based on the data you have analyzed, do you agree with the claim?\n",
    "Yes\n",
    "\n",
    "## 7b. Why?\n",
    "The mean Efficiency in PPPC was highest (26.32) at a chopstick length of 240mm.  When chopsticks are longer than 240mm the mean Efficiency in PPPC decreases.  \n",
    "\n",
    "A Chopstick of 240mm reaches a peak Food Piniching Efficiency of 26.32.\n",
    "\n",
    "Using Pearson Correlation we can see a correlation exists between the two variables.  A negative correlation.\n",
    "\n",
    "### Results\n",
    "Using the Anova Test we can verify the statistical significance of the data by testing the NULL Hypothesis.\n",
    "\n",
    ">\"In inferential statistics the null hypothesis usually refers to a general statement or default position that there is no relationship between two measured phenomena, or no difference among groups.\"\n",
    "\n",
    "The null hypothesis, for the overall F-test for this experiment would be that all 6 chopstick lengths produce the same food piniching efficiency, on average. \n",
    "\n",
    "The critical value is the number that the test statistic must exceed to reject the test. In this case, Fcrit(5,150) = 2.27 at α = 0.05. Since F=1.32 < 2.27, the results are significant at the 5% significance level. \n",
    "\n",
    "One would ACCEPT the null hypothesis, concluding that there is strong evidence that the expected values in the six groups are similar. The p-value for this test is 0.26.\n",
    "\n",
    "Well this just disproves that chopsticks of 240mm are better.  My NULL Hypothesis is wrong or my F critical value is wrong, or my Anova test has the incorrect data being applied.  O_o\n",
    "\n",
    "###### Find F Critical\n",
    "[Table](http://home.ubalt.edu/ntsbarsh/Business-stat/StatistialTables.pdf)\n",
    "\n",
    "v1 = n-1 -> 6- 1 = 5  \n",
    "V2 = n-1 -> 31-1 = 30 * 5 = 150  \n",
    "\n",
    "F Critical (5,150) = 2.27  "
   ]
  },
  {
   "cell_type": "code",
   "execution_count": 171,
   "metadata": {
    "collapsed": false
   },
   "outputs": [
    {
     "data": {
      "text/plain": [
       "(1.3209670540350906, 0.25713681077294981)"
      ]
     },
     "execution_count": 171,
     "metadata": {},
     "output_type": "execute_result"
    }
   ],
   "source": [
    "# http://docs.scipy.org/doc/scipy-0.15.1/reference/generated/scipy.stats.f_oneway.html\n",
    "f_value, p_value = f_oneway(cs180['Food.Pinching.Efficiency'], cs210['Food.Pinching.Efficiency'], \n",
    "                            cs240['Food.Pinching.Efficiency'], cs270['Food.Pinching.Efficiency'], \n",
    "                            cs300['Food.Pinching.Efficiency'], cs330['Food.Pinching.Efficiency'])\n",
    "f_value, p_value"
   ]
  },
  {
   "cell_type": "markdown",
   "metadata": {},
   "source": [
    "### Anova  Test\n",
    "[Anova Documnetation](http://docs.scipy.org/doc/scipy-0.15.1/reference/generated/scipy.stats.f_oneway.html)\n",
    "\n",
    "\n",
    "Without performing a statistical test we cannot know for certain if the effect of chopstick length was significant in a statistical sense.  Investigate how to assess the statistical significance of the results.\n",
    "\n",
    "#### Assumptions:\n",
    "1. The samples are independant  \n",
    "     Yes\n",
    "2. Each sample is from a normally distrubted population  \n",
    "     Yes\n",
    "3. The population standard deviation of the groups are all equal  \n",
    "     The Standard Deviations are close but not exactly equal.  \n",
    "\n",
    "\"How can we make multiple comparisons?\"\n",
    "http://www.itl.nist.gov/div898/handbook/prc/section4/prc47.htm\n",
    ">The ANOVA uses the F test to determine whether there exists a significant difference among treatment means or interactions. In this sense it is a preliminary test that informs us if we should continue the investigation of the data at hand.\n",
    "\n",
    ">If the null hypothesis (no difference among treatments or interactions) is accepted, there is an implication that no relation exists between the factor levels and the response. There is not much we can learn, and we are finished with the analysis.\n",
    "\n",
    ">When the F test rejects the null hypothesis, we usually want to undertake a thorough analysis of the nature of the factor-level effects.\n",
    "\n",
    "##### Examples:  \n",
    "\n",
    "**f value > f critical value**  \n",
    "One would reject the null hypothesis, concluding that there is strong evidence that the expected values in the three groups differ. If our f value > than f critical value.\n",
    "\n",
    "**f value < f critical value**  \n",
    "One would accept the null hypothesis, concluding that there is strong evidence that the exepected values in the groups are similar.  If our f value < than f critical value.\n",
    "\n",
    "The f-critical value is the number that the test statistic must exceed to reject the test.\n"
   ]
  },
  {
   "cell_type": "code",
   "execution_count": 172,
   "metadata": {
    "collapsed": false,
    "scrolled": true
   },
   "outputs": [
    {
     "data": {
      "text/plain": [
       "array([[<matplotlib.axes._subplots.AxesSubplot object at 0x7f3915e1b6d0>,\n",
       "        <matplotlib.axes._subplots.AxesSubplot object at 0x7f3915c9d890>],\n",
       "       [<matplotlib.axes._subplots.AxesSubplot object at 0x7f3915c1ec50>,\n",
       "        <matplotlib.axes._subplots.AxesSubplot object at 0x7f3915b83fd0>],\n",
       "       [<matplotlib.axes._subplots.AxesSubplot object at 0x7f3915b14250>,\n",
       "        <matplotlib.axes._subplots.AxesSubplot object at 0x7f3915ae1610>]], dtype=object)"
      ]
     },
     "execution_count": 172,
     "metadata": {},
     "output_type": "execute_result"
    },
    {
     "data": {
      "image/png": "[encoded data removed]",
      "text/plain": [
       "<matplotlib.figure.Figure at 0x7f3915ee83d0>"
      ]
     },
     "metadata": {},
     "output_type": "display_data"
    }
   ],
   "source": [
    "# plot the histograms for each Chopstick length\n",
    "# to check for a normally distributed population\n",
    "dataFrame['Food.Pinching.Efficiency'].hist(by=dataFrame['Chopstick.Length'], figsize=(10, 10), bins=10,alpha=0.5)"
   ]
  },
  {
   "cell_type": "markdown",
   "metadata": {},
   "source": [
    "We know the samples are independant.  \n",
    "We can see the samples have a likely normal distribution.   \n",
    "*However the 180mm Chopstick length could also be skewed to the right. * \n",
    "\n",
    "\n"
   ]
  },
  {
   "cell_type": "markdown",
   "metadata": {},
   "source": [
    "### Standard Devitations"
   ]
  },
  {
   "cell_type": "code",
   "execution_count": 173,
   "metadata": {
    "collapsed": false
   },
   "outputs": [
    {
     "data": {
      "text/plain": [
       "180    4.020612\n",
       "210    4.116344\n",
       "240    4.457579\n",
       "270    3.713268\n",
       "300    3.560044\n",
       "330    4.198898\n",
       "dtype: float64"
      ]
     },
     "execution_count": 173,
     "metadata": {},
     "output_type": "execute_result"
    }
   ],
   "source": [
    "sd = pd.Series(cs180['Food.Pinching.Efficiency'].std(), index=['180'])\n",
    "sd['210'] = cs210['Food.Pinching.Efficiency'].std()\n",
    "sd['240'] = cs240['Food.Pinching.Efficiency'].std()\n",
    "sd['270'] = cs270['Food.Pinching.Efficiency'].std()\n",
    "sd['300'] = cs300['Food.Pinching.Efficiency'].std()\n",
    "sd['330'] = cs330['Food.Pinching.Efficiency'].std()\n",
    "sd"
   ]
  },
  {
   "cell_type": "markdown",
   "metadata": {},
   "source": [
    "The standard deviations for each of the chopstick lenghts are not all equal."
   ]
  },
  {
   "cell_type": "markdown",
   "metadata": {},
   "source": [
    "### Tukey's Range Test\n",
    "https://en.wikipedia.org/wiki/Tukey%27s_range_test\n",
    "\n",
    "First attempt to understand and use Tukey's Range Test\n",
    "\n",
    "\n",
    "All the groups are similar so we can keep the f value statistic."
   ]
  },
  {
   "cell_type": "code",
   "execution_count": 174,
   "metadata": {
    "collapsed": false,
    "scrolled": true
   },
   "outputs": [
    {
     "name": "stdout",
     "output_type": "stream",
     "text": [
      "Multiple Comparison of Means - Tukey HSD,FWER=0.05\n",
      "============================================\n",
      "group1 group2 meandiff  lower  upper  reject\n",
      "--------------------------------------------\n",
      " 180    210    0.5487  -2.3943 3.4918 False \n",
      " 180    240    1.3877  -1.5553 4.3308 False \n",
      " 180    270   -0.6113  -3.5543 2.3318 False \n",
      " 180    300    0.0329  -2.9102 2.976  False \n",
      " 180    330   -0.9355  -3.8785 2.0076 False \n",
      " 210    240    0.839    -2.104 3.7821 False \n",
      " 210    270    -1.16   -4.1031 1.7831 False \n",
      " 210    300   -0.5158  -3.4589 2.4273 False \n",
      " 210    330   -1.4842  -4.4273 1.4589 False \n",
      " 240    270    -1.999  -4.9421 0.944  False \n",
      " 240    300   -1.3548  -4.2979 1.5882 False \n",
      " 240    330   -2.3232  -5.2663 0.6198 False \n",
      " 270    300    0.6442  -2.2989 3.5873 False \n",
      " 270    330   -0.3242  -3.2673 2.6189 False \n",
      " 300    330   -0.9684  -3.9114 1.9747 False \n",
      "--------------------------------------------\n"
     ]
    }
   ],
   "source": [
    "# http://jpktd.blogspot.com/2013/03/multiple-comparison-and-tukey-hsd-or_25.html\n",
    "posthoc_result = pairwise_tukeyhsd(dataFrame['Food.Pinching.Efficiency'], dataFrame['Chopstick.Length'])\n",
    "print posthoc_result       "
   ]
  },
  {
   "cell_type": "markdown",
   "metadata": {},
   "source": [
    "### Sample Size Validation\n",
    "Validating we have similar sized samples for each Chopstick.Length.  The box plot shows us the Chopstick lengths and their ranges, quartiles, and means in one plot easy to review.  Using this plot we can see that a chopstick length of 240mm also had the largest range of food piniching efficiency."
   ]
  },
  {
   "cell_type": "code",
   "execution_count": 175,
   "metadata": {
    "collapsed": false,
    "scrolled": true
   },
   "outputs": [
    {
     "data": {
      "text/html": [
       "<div>\n",
       "<table border=\"1\" class=\"dataframe\">\n",
       "  <thead>\n",
       "    <tr style=\"text-align: right;\">\n",
       "      <th></th>\n",
       "      <th>Food.Pinching.Efficiency</th>\n",
       "      <th>Individual</th>\n",
       "    </tr>\n",
       "    <tr>\n",
       "      <th>Chopstick.Length</th>\n",
       "      <th></th>\n",
       "      <th></th>\n",
       "    </tr>\n",
       "  </thead>\n",
       "  <tbody>\n",
       "    <tr>\n",
       "      <th>180</th>\n",
       "      <td>31</td>\n",
       "      <td>31</td>\n",
       "    </tr>\n",
       "    <tr>\n",
       "      <th>210</th>\n",
       "      <td>31</td>\n",
       "      <td>31</td>\n",
       "    </tr>\n",
       "    <tr>\n",
       "      <th>240</th>\n",
       "      <td>31</td>\n",
       "      <td>31</td>\n",
       "    </tr>\n",
       "    <tr>\n",
       "      <th>270</th>\n",
       "      <td>31</td>\n",
       "      <td>31</td>\n",
       "    </tr>\n",
       "    <tr>\n",
       "      <th>300</th>\n",
       "      <td>31</td>\n",
       "      <td>31</td>\n",
       "    </tr>\n",
       "    <tr>\n",
       "      <th>330</th>\n",
       "      <td>31</td>\n",
       "      <td>31</td>\n",
       "    </tr>\n",
       "  </tbody>\n",
       "</table>\n",
       "</div>"
      ],
      "text/plain": [
       "                  Food.Pinching.Efficiency  Individual\n",
       "Chopstick.Length                                      \n",
       "180                                     31          31\n",
       "210                                     31          31\n",
       "240                                     31          31\n",
       "270                                     31          31\n",
       "300                                     31          31\n",
       "330                                     31          31"
      ]
     },
     "execution_count": 175,
     "metadata": {},
     "output_type": "execute_result"
    }
   ],
   "source": [
    "counts = dataFrame.groupby('Chopstick.Length').count()\n",
    "counts"
   ]
  },
  {
   "cell_type": "code",
   "execution_count": 177,
   "metadata": {
    "collapsed": false,
    "scrolled": true
   },
   "outputs": [
    {
     "data": {
      "text/plain": [
       "count    186.000000\n",
       "mean      25.005591\n",
       "std        4.039693\n",
       "min       14.470000\n",
       "25%       22.540000\n",
       "50%       24.905000\n",
       "75%       27.932500\n",
       "max       36.150000\n",
       "Name: Food.Pinching.Efficiency, dtype: float64"
      ]
     },
     "execution_count": 177,
     "metadata": {},
     "output_type": "execute_result"
    }
   ],
   "source": [
    "dataFrame['Food.Pinching.Efficiency'].describe()"
   ]
  },
  {
   "cell_type": "markdown",
   "metadata": {},
   "source": [
    "#### Boxplot and Histogram for the PPPC\n",
    "Plot a boxplot and histogram of PPPC for the entire sample and check if the distrubution is likely normal."
   ]
  },
  {
   "cell_type": "code",
   "execution_count": 178,
   "metadata": {
    "collapsed": false,
    "scrolled": true
   },
   "outputs": [
    {
     "data": {
      "text/plain": [
       "<matplotlib.text.Text at 0x7f39158b2350>"
      ]
     },
     "execution_count": 178,
     "metadata": {},
     "output_type": "execute_result"
    },
    {
     "data": {
      "image/png": "[encoded data removed]",
      "text/plain": [
       "<matplotlib.figure.Figure at 0x7f39159db490>"
      ]
     },
     "metadata": {},
     "output_type": "display_data"
    }
   ],
   "source": [
    "# plot a histogram with 10 bins  - bin size ~ 1.46\n",
    "plt.hist(dataFrame['Food.Pinching.Efficiency'], bins=20)\n",
    "plt.title(\"Histogram of Pinching Efficiency\")\n",
    "plt.xlabel(\"PPPC\")\n",
    "plt.ylabel(\"Frequency\")"
   ]
  },
  {
   "cell_type": "markdown",
   "metadata": {},
   "source": [
    "The data is likely normally distributed in the histogram."
   ]
  },
  {
   "cell_type": "code",
   "execution_count": 179,
   "metadata": {
    "collapsed": false,
    "scrolled": false
   },
   "outputs": [
    {
     "data": {
      "text/plain": [
       "<matplotlib.text.Text at 0x7f3915e76b50>"
      ]
     },
     "execution_count": 179,
     "metadata": {},
     "output_type": "execute_result"
    },
    {
     "data": {
      "text/plain": [
       "<matplotlib.figure.Figure at 0x7f3915efc550>"
      ]
     },
     "metadata": {},
     "output_type": "display_data"
    },
    {
     "data": {
      "image/png": "[encoded data removed]",
      "text/plain": [
       "<matplotlib.figure.Figure at 0x7f3915d61a10>"
      ]
     },
     "metadata": {},
     "output_type": "display_data"
    }
   ],
   "source": [
    "#Slice the data for a nice box plot\n",
    "x_sec = dataFrame[['Chopstick.Length', 'Food.Pinching.Efficiency']]\n",
    "plt.figure()\n",
    "bp = x_sec.boxplot(by='Chopstick.Length')\n",
    "plt.xlabel(\"Length in mm\")\n",
    "plt.ylabel(\"Efficiency in PPPC\")"
   ]
  },
  {
   "cell_type": "markdown",
   "metadata": {},
   "source": [
    "### Individual's Food Pinching Efficiency\n",
    "Maybe some individuals have better dexterity than others.  We can see there is large deviation between different individuals."
   ]
  },
  {
   "cell_type": "code",
   "execution_count": 180,
   "metadata": {
    "collapsed": false
   },
   "outputs": [
    {
     "data": {
      "text/plain": [
       "<matplotlib.text.Text at 0x7f3916210410>"
      ]
     },
     "execution_count": 180,
     "metadata": {},
     "output_type": "execute_result"
    },
    {
     "data": {
      "text/plain": [
       "<matplotlib.figure.Figure at 0x7f39159db590>"
      ]
     },
     "metadata": {},
     "output_type": "display_data"
    },
    {
     "data": {
      "image/png": "[encoded data removed]",
      "text/plain": [
       "<matplotlib.figure.Figure at 0x7f3916156ad0>"
      ]
     },
     "metadata": {},
     "output_type": "display_data"
    }
   ],
   "source": [
    "x_sec = dataFrame[['Food.Pinching.Efficiency', 'Individual']]\n",
    "plt.figure()\n",
    "bp = x_sec.boxplot(by='Individual')\n",
    "plt.xlabel(\"Individuals\")\n",
    "plt.ylabel(\"Efficiency in PPPC\")"
   ]
  },
  {
   "cell_type": "markdown",
   "metadata": {},
   "source": [
    "## References\n",
    "http://www.itl.nist.gov/div898/handbook/prc/section4/prc47.htm  \n",
    "\n",
    "http://docs.scipy.org/doc/scipy-0.15.1/reference/generated/scipy.stats.f_oneway.html  \n",
    "\n",
    "http://pandas.pydata.org/  \n",
    "\n",
    "http://www.graphpad.com/guides/prism/6/statistics/index.htm?f_ratio_and_anova_table_(one-way_anova).htm\n",
    "\n",
    "https://en.wikipedia.org/wiki/F-distribution\n",
    "\n",
    "http://www.itl.nist.gov/div898/handbook/eda/section3/eda3673.htm  \n",
    "\n",
    "http://stats.stackexchange.com/questions/12398/how-to-interpret-f-and-p-value-in-anova  \n",
    "\n",
    "http://www.itl.nist.gov/div898/handbook/eda/section3/eda3673.htm  \n",
    "\n",
    "http://stattrek.com/online-calculator/f-distribution.aspx  \n",
    "\n",
    "http://blog.minitab.com/blog/adventures-in-statistics/how-to-correctly-interpret-p-values"
   ]
  },
  {
   "cell_type": "markdown",
   "metadata": {},
   "source": [
    "### Anova Example\n",
    "[Example Analysis](https://en.wikipedia.org/wiki/F-test#One-way_ANOVA_example)\n",
    "\n",
    "Consider an experiment to study the effect of three different levels of a factor on a response (e.g. three levels of a fertilizer on plant growth). If we had 6 observations for each level, we could write the outcome of the experiment in a table like this, where a1, a2, and a3 are the three levels of the factor being studied.\n",
    " \n",
    "The null hypothesis, denoted H0, for the overall F-test for this experiment would be that all three levels of the factor produce the same response, on average.\n",
    " \n",
    "\n",
    "\n",
    "The critical value is the number that the test statistic must exceed to reject the test. In this case, Fcrit(2,15) = 3.68 at α = 0.05. Since F=9.3 > 3.68, the **results are significant** at the 5% significance level. One would **reject the null hypothesis**, concluding that there is strong evidence that the expected values in the three groups differ. The p-value for this test is 0.002."
   ]
  },
  {
   "cell_type": "code",
   "execution_count": 181,
   "metadata": {
    "collapsed": false
   },
   "outputs": [
    {
     "data": {
      "text/plain": [
       "(9.264705882352942, 0.0023987773293929083)"
      ]
     },
     "execution_count": 181,
     "metadata": {},
     "output_type": "execute_result"
    }
   ],
   "source": [
    "# Anova test example from wikipedia\n",
    "# https://en.wikipedia.org/wiki/F-test#One-way_ANOVA_example\n",
    "columns = ['a','b', 'c']\n",
    "\n",
    "a = pd.Series([6,8,4,3,5,4])\n",
    "b = pd.Series([8,12,9,11,6,8])\n",
    "c = pd.Series([13,9,11,8,7,12])\n",
    "\n",
    "f_value, p_value = f_oneway(a,b,c)\n",
    "f_value, p_value\n",
    "\n"
   ]
  }
 ],
 "metadata": {
  "kernelspec": {
   "display_name": "Python 2",
   "language": "python",
   "name": "python2"
  },
  "language_info": {
   "codemirror_mode": {
    "name": "ipython",
    "version": 2
   },
   "file_extension": ".py",
   "mimetype": "text/x-python",
   "name": "python",
   "nbconvert_exporter": "python",
   "pygments_lexer": "ipython2",
   "version": "2.7.10"
  }
 },
 "nbformat": 4,
 "nbformat_minor": 0
}
